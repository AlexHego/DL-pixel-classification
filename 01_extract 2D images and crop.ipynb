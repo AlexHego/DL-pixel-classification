{
 "cells": [
  {
   "cell_type": "markdown",
   "id": "c9a1f4e6-3af8-4e67-bbc7-e05d5fe9045e",
   "metadata": {},
   "source": [
    "## Extract and crop 2D Data from RAW .CZI\n",
    "The main goal is to create 2D images from 3D data to do the training "
   ]
  },
  {
   "cell_type": "code",
   "execution_count": 2,
   "id": "200f10ae-6b1a-4d1f-961e-25265c117563",
   "metadata": {},
   "outputs": [],
   "source": [
    "import os\n",
    "import numpy as np\n",
    "from czifile import imread as read_czi\n",
    "from tifffile import imread, imwrite\n",
    "from skimage.io import imsave\n",
    "from tqdm import tqdm\n",
    "import warnings\n",
    "from collections import defaultdict\n",
    "\n",
    "parent_path = r'C:\\Users\\Alex\\Desktop\\Mailis_lightsheet'\n",
    "data_path = os.path.join(parent_path, 'data')                # Raw CZI files\n",
    "extracted_path = os.path.join(parent_path, 'extracted_tiff') # Slices extracted from CZI\n",
    "cropped_path = os.path.join(parent_path, 'cropped_tiff')     # Final cropped 2D images\n",
    "\n",
    "os.makedirs(extracted_path, exist_ok=True)\n",
    "os.makedirs(cropped_path, exist_ok=True)"
   ]
  },
  {
   "cell_type": "markdown",
   "id": "4c1459ed-08f7-4a37-a44a-398028e05dde",
   "metadata": {},
   "source": [
    "### Utility to pad image index (for nice ordering)"
   ]
  },
  {
   "cell_type": "code",
   "execution_count": 3,
   "id": "306052cf-1f13-4c8f-8ab9-db6fa82ef862",
   "metadata": {},
   "outputs": [],
   "source": [
    "\n",
    "def zero_pad(i, width=3):\n",
    "    return f\"{i:0{width}d}\"\n",
    "\n",
    "warnings.simplefilter(\"ignore\", UserWarning)"
   ]
  },
  {
   "cell_type": "markdown",
   "id": "14f27b66-7f28-42d7-b946-349c904caf05",
   "metadata": {},
   "source": [
    "### Extract 2D slices from 3D .CZI files "
   ]
  },
  {
   "cell_type": "code",
   "execution_count": 4,
   "id": "8943a713-702b-486f-94b3-c8fbeece3b59",
   "metadata": {},
   "outputs": [
    {
     "name": "stdout",
     "output_type": "stream",
     "text": [
      "\n",
      " Found 16 CZI files to process.\n",
      "\n",
      "[1/16] Extracting slices from: M20E1.czi\n"
     ]
    },
    {
     "name": "stderr",
     "output_type": "stream",
     "text": [
      "Saving Z-slices: 100%|█████████████████████████████████████████████████████████████████| 16/16 [00:02<00:00,  7.48it/s]\n"
     ]
    },
    {
     "name": "stdout",
     "output_type": "stream",
     "text": [
      "[2/16] Extracting slices from: M20E2.czi\n"
     ]
    },
    {
     "name": "stderr",
     "output_type": "stream",
     "text": [
      "Saving Z-slices: 100%|█████████████████████████████████████████████████████████████████| 19/19 [00:01<00:00,  9.73it/s]\n"
     ]
    },
    {
     "name": "stdout",
     "output_type": "stream",
     "text": [
      "[3/16] Extracting slices from: M20E3.czi\n"
     ]
    },
    {
     "name": "stderr",
     "output_type": "stream",
     "text": [
      "Saving Z-slices: 100%|█████████████████████████████████████████████████████████████████| 19/19 [00:01<00:00, 12.50it/s]\n"
     ]
    },
    {
     "name": "stdout",
     "output_type": "stream",
     "text": [
      "[4/16] Extracting slices from: M20E4.czi\n"
     ]
    },
    {
     "name": "stderr",
     "output_type": "stream",
     "text": [
      "Saving Z-slices: 100%|█████████████████████████████████████████████████████████████████| 17/17 [00:01<00:00,  9.69it/s]\n"
     ]
    },
    {
     "name": "stdout",
     "output_type": "stream",
     "text": [
      "[5/16] Extracting slices from: M20E6.czi\n"
     ]
    },
    {
     "name": "stderr",
     "output_type": "stream",
     "text": [
      "Saving Z-slices: 100%|█████████████████████████████████████████████████████████████████| 18/18 [00:01<00:00, 12.35it/s]\n"
     ]
    },
    {
     "name": "stdout",
     "output_type": "stream",
     "text": [
      "[6/16] Extracting slices from: M20E6bis.czi\n"
     ]
    },
    {
     "name": "stderr",
     "output_type": "stream",
     "text": [
      "Saving Z-slices: 100%|█████████████████████████████████████████████████████████████████| 18/18 [00:01<00:00, 13.40it/s]\n"
     ]
    },
    {
     "name": "stdout",
     "output_type": "stream",
     "text": [
      "[7/16] Extracting slices from: M21E2.czi\n"
     ]
    },
    {
     "name": "stderr",
     "output_type": "stream",
     "text": [
      "Saving Z-slices: 100%|█████████████████████████████████████████████████████████████████| 19/19 [00:01<00:00, 13.23it/s]\n"
     ]
    },
    {
     "name": "stdout",
     "output_type": "stream",
     "text": [
      "[8/16] Extracting slices from: M21E3.czi\n"
     ]
    },
    {
     "name": "stderr",
     "output_type": "stream",
     "text": [
      "Saving Z-slices: 100%|█████████████████████████████████████████████████████████████████| 18/18 [00:01<00:00, 16.11it/s]\n"
     ]
    },
    {
     "name": "stdout",
     "output_type": "stream",
     "text": [
      "[9/16] Extracting slices from: M21E4.czi\n"
     ]
    },
    {
     "name": "stderr",
     "output_type": "stream",
     "text": [
      "Saving Z-slices: 100%|█████████████████████████████████████████████████████████████████| 20/20 [00:01<00:00, 12.31it/s]\n"
     ]
    },
    {
     "name": "stdout",
     "output_type": "stream",
     "text": [
      "[10/16] Extracting slices from: M21E5.czi\n"
     ]
    },
    {
     "name": "stderr",
     "output_type": "stream",
     "text": [
      "Saving Z-slices: 100%|█████████████████████████████████████████████████████████████████| 18/18 [00:01<00:00, 10.79it/s]\n"
     ]
    },
    {
     "name": "stdout",
     "output_type": "stream",
     "text": [
      "[11/16] Extracting slices from: M21E6.czi\n"
     ]
    },
    {
     "name": "stderr",
     "output_type": "stream",
     "text": [
      "Saving Z-slices: 100%|█████████████████████████████████████████████████████████████████| 17/17 [00:01<00:00, 10.94it/s]\n"
     ]
    },
    {
     "name": "stdout",
     "output_type": "stream",
     "text": [
      "[12/16] Extracting slices from: MockE1.czi\n"
     ]
    },
    {
     "name": "stderr",
     "output_type": "stream",
     "text": [
      "Saving Z-slices: 100%|█████████████████████████████████████████████████████████████████| 26/26 [00:02<00:00,  9.30it/s]\n"
     ]
    },
    {
     "name": "stdout",
     "output_type": "stream",
     "text": [
      "[13/16] Extracting slices from: MockE2.czi\n"
     ]
    },
    {
     "name": "stderr",
     "output_type": "stream",
     "text": [
      "Saving Z-slices: 100%|█████████████████████████████████████████████████████████████████| 15/15 [00:01<00:00,  8.06it/s]\n"
     ]
    },
    {
     "name": "stdout",
     "output_type": "stream",
     "text": [
      "[14/16] Extracting slices from: MockE3.czi\n"
     ]
    },
    {
     "name": "stderr",
     "output_type": "stream",
     "text": [
      "Saving Z-slices: 100%|█████████████████████████████████████████████████████████████████| 22/22 [00:02<00:00, 10.51it/s]\n"
     ]
    },
    {
     "name": "stdout",
     "output_type": "stream",
     "text": [
      "[15/16] Extracting slices from: MockE4.czi\n"
     ]
    },
    {
     "name": "stderr",
     "output_type": "stream",
     "text": [
      "Saving Z-slices: 100%|█████████████████████████████████████████████████████████████████| 16/16 [00:01<00:00,  8.78it/s]\n"
     ]
    },
    {
     "name": "stdout",
     "output_type": "stream",
     "text": [
      "[16/16] Extracting slices from: MockE5.czi\n"
     ]
    },
    {
     "name": "stderr",
     "output_type": "stream",
     "text": [
      "Saving Z-slices: 100%|█████████████████████████████████████████████████████████████████| 15/15 [00:01<00:00,  8.87it/s]"
     ]
    },
    {
     "name": "stdout",
     "output_type": "stream",
     "text": [
      "\n",
      " Step 1 complete: 2D slices extracted from CZI files.\n"
     ]
    },
    {
     "name": "stderr",
     "output_type": "stream",
     "text": [
      "\n"
     ]
    }
   ],
   "source": [
    "czi_files = [f for f in os.listdir(data_path) if f.lower().endswith('.czi')]\n",
    "print(f\"\\n Found {len(czi_files)} CZI files to process.\\n\")\n",
    "\n",
    "for file_idx, filename in enumerate(czi_files, 1):\n",
    "    print(f\"[{file_idx}/{len(czi_files)}] Extracting slices from: {filename}\")\n",
    "    in_path = os.path.join(data_path, filename)\n",
    "    image = read_czi(in_path)\n",
    "    image = np.squeeze(image)\n",
    "\n",
    "    if image.ndim == 4:\n",
    "        image = image[0]  # Select channel 0 if present\n",
    "\n",
    "    if image.ndim != 3:\n",
    "        raise ValueError(f\"Unexpected image shape: {image.shape} in {filename}\")\n",
    "\n",
    "    for i in tqdm(range(0, image.shape[0], 25), desc='Saving Z-slices'):\n",
    "        image2d = image[i, :, :]\n",
    "        out_name = f\"{os.path.splitext(filename)[0]}_z{zero_pad(i)}.tif\"\n",
    "        out_path = os.path.join(extracted_path, out_name)\n",
    "        imsave(out_path, image2d.astype(np.uint16))\n",
    "\n",
    "print(\"\\n Step 1 complete: 2D slices extracted from CZI files.\")\n"
   ]
  },
  {
   "cell_type": "markdown",
   "id": "296c8417-eabd-44af-9325-bff4d4c2ee06",
   "metadata": {},
   "source": [
    "### STEP 2: Crop all 2D TIFF images to the same (Y, X) size "
   ]
  },
  {
   "cell_type": "code",
   "execution_count": 6,
   "id": "a10d70aa-c18c-468a-a361-46bfb5a00b71",
   "metadata": {},
   "outputs": [
    {
     "name": "stdout",
     "output_type": "stream",
     "text": [
      "\n",
      "  Cropping all images to size: [2478 1856]\n",
      "\n",
      " Step 2 complete: All cropped images saved to: C:\\Users\\Alex\\Desktop\\Mailis_lightsheet\\cropped_tiff\n"
     ]
    }
   ],
   "source": [
    "# Group by prefix (e.g. M20E1_z025 → M20E1)\n",
    "stacks = defaultdict(list)\n",
    "for fname in sorted(os.listdir(extracted_path)):\n",
    "    if fname.endswith('.tif'):\n",
    "        prefix = fname.split('_z')[0]\n",
    "        stacks[prefix].append(os.path.join(extracted_path, fname))\n",
    "\n",
    "# Find smallest shape among all images\n",
    "min_shape = None\n",
    "for file_list in stacks.values():\n",
    "    for path in file_list:\n",
    "        img = imread(path)\n",
    "        if min_shape is None:\n",
    "            min_shape = img.shape\n",
    "        else:\n",
    "            min_shape = np.minimum(min_shape, img.shape)\n",
    "\n",
    "print(f\"\\n  Cropping all images to size: {min_shape}\")\n",
    "\n",
    "# Crop and save to final output folder\n",
    "for prefix, files in stacks.items():\n",
    "    for f in sorted(files):\n",
    "        img = imread(f)\n",
    "        cropped = img[:min_shape[0], :min_shape[1]]\n",
    "        out_name = os.path.basename(f)\n",
    "        out_path = os.path.join(cropped_path, out_name)\n",
    "        imwrite(out_path, cropped.astype(np.uint16))\n",
    "\n",
    "print(f\"\\n Step 2 complete: All cropped images saved to: {cropped_path}\")"
   ]
  },
  {
   "cell_type": "code",
   "execution_count": null,
   "id": "62281108-68a4-49fe-b754-c861c13e6a68",
   "metadata": {},
   "outputs": [],
   "source": []
  }
 ],
 "metadata": {
  "kernelspec": {
   "display_name": "vessels_lightsheet",
   "language": "python",
   "name": "mon_env"
  },
  "language_info": {
   "codemirror_mode": {
    "name": "ipython",
    "version": 3
   },
   "file_extension": ".py",
   "mimetype": "text/x-python",
   "name": "python",
   "nbconvert_exporter": "python",
   "pygments_lexer": "ipython3",
   "version": "3.11.11"
  }
 },
 "nbformat": 4,
 "nbformat_minor": 5
}
