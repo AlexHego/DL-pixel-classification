{
 "cells": [
  {
   "cell_type": "code",
   "execution_count": null,
   "id": "653ef698",
   "metadata": {},
   "outputs": [],
   "source": [
    "import napari\n",
    "import czifile\n",
    "import numpy as np\n",
    "import matplotlib.pyplot as plt\n",
    "import torch\n",
    "from pathlib import Path\n",
    "from monai.inferers import sliding_window_inference\n",
    "from tnia.deeplearning.dl_helper import quantile_normalization\n",
    "import torch.nn.functional as F\n",
    "import tifffile\n",
    "from tqdm import tqdm\n"
   ]
  },
  {
   "cell_type": "code",
   "execution_count": null,
   "id": "10924a8a",
   "metadata": {},
   "outputs": [],
   "source": [
    "# Define the parent path and list of input CZI files\n",
    "parent_path = Path(r'C:/Users/Alex/Desktop/Mailis')\n",
    "input_files = sorted((parent_path / \"data\").glob(\"*.czi\"))\n",
    "print(f\"Found {len(input_files)} files:\")\n",
    "for f in input_files:\n",
    "    print(f.name)\n"
   ]
  },
  {
   "cell_type": "code",
   "execution_count": null,
   "id": "2d89d52a",
   "metadata": {},
   "outputs": [],
   "source": [
    "# Load model\n",
    "models_path = parent_path / 'models'\n",
    "# put the name of your model.pth\n",
    "net = torch.load(Path(models_path) / 'full_brain.pth', weights_only=False)\n",
    "device = torch.device(\"cuda\" if torch.cuda.is_available() else \"cpu\")\n",
    "net = net.to(device)\n"
   ]
  },
  {
   "cell_type": "code",
   "execution_count": null,
   "id": "d799f05f",
   "metadata": {},
   "outputs": [],
   "source": [
    "# Define the prediction function that returns class probability maps (multi-channel)\n",
    "def predict_multichannel(im, net):\n",
    "    im = quantile_normalization(im)\n",
    "    im = im.astype(np.float32)\n",
    "    im_tensor = torch.from_numpy(im).unsqueeze(0).unsqueeze(0).to(device)\n",
    "\n",
    "    with torch.no_grad():\n",
    "        logits = sliding_window_inference(\n",
    "            im_tensor,\n",
    "            1024,\n",
    "            1,\n",
    "            net\n",
    "        )\n",
    "\n",
    "    probabilities = torch.nn.functional.softmax(logits, dim=1)\n",
    "    prob_np = probabilities.squeeze(0).cpu().numpy()  # Shape: (C, H, W)\n",
    "    return prob_np\n"
   ]
  },
  {
   "cell_type": "code",
   "execution_count": null,
   "id": "b43947a0",
   "metadata": {},
   "outputs": [],
   "source": [
    "# Process each CZI file and save multi-channel predictions as OME-TIFF\n",
    "output_dir = parent_path / \"Brain_volume\"\n",
    "output_dir.mkdir(parents=True, exist_ok=True)\n",
    "\n",
    "for czi_path in input_files:\n",
    "    print(f\"Processing: {czi_path.name}\")\n",
    "    image = czifile.imread(czi_path)\n",
    "    image = np.squeeze(image)\n",
    "    save_path = output_dir / (czi_path.stem + \"_prediction_multichannel.ome.tif\")\n",
    "\n",
    "    sample_prediction = predict_multichannel(image[0, :, :], net)\n",
    "    num_classes = sample_prediction.shape[0]\n",
    "    depth = image.shape[0]\n",
    "    height, width = sample_prediction.shape[1:]\n",
    "\n",
    "    # Initialize an empty array for all slices and classes: (C, Z, Y, X)\n",
    "    all_predictions = np.zeros((num_classes, depth, height, width), dtype=np.uint8)\n",
    "\n",
    "    for i in tqdm(range(depth), desc=f\"Predicting {czi_path.name}\"):\n",
    "        image2d = image[i, :, :]\n",
    "        prediction = predict_multichannel(image2d, net)\n",
    "        prediction = (prediction * 255).astype(np.uint8)  # Scale probabilities to 0–255\n",
    "        all_predictions[:, i, :, :] = prediction\n",
    "\n",
    "    # Save as OME-TIFF with shape (C, Z, Y, X)\n",
    "    tifffile.imwrite(\n",
    "        save_path,\n",
    "        all_predictions,\n",
    "        photometric='minisblack',\n",
    "        metadata={'axes': 'CZYX'},\n",
    "        bigtiff=True\n",
    "    )\n",
    "\n",
    "    print(f\"Saved multi-channel OME-TIFF prediction to {save_path}\")\n"
   ]
  },
  {
   "cell_type": "code",
   "execution_count": null,
   "id": "7c2f80e3-c82a-4ab5-b7c1-14403af52334",
   "metadata": {},
   "outputs": [],
   "source": []
  }
 ],
 "metadata": {
  "kernelspec": {
   "display_name": "Python 3 (ipykernel)",
   "language": "python",
   "name": "python3"
  },
  "language_info": {
   "codemirror_mode": {
    "name": "ipython",
    "version": 3
   },
   "file_extension": ".py",
   "mimetype": "text/x-python",
   "name": "python",
   "nbconvert_exporter": "python",
   "pygments_lexer": "ipython3",
   "version": "3.11.11"
  }
 },
 "nbformat": 4,
 "nbformat_minor": 5
}
