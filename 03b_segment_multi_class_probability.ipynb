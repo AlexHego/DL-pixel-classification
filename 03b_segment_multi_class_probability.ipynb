{
 "cells": [
  {
   "cell_type": "code",
   "execution_count": 1,
   "id": "6b43495d",
   "metadata": {},
   "outputs": [
    {
     "name": "stdout",
     "output_type": "stream",
     "text": [
      "raster_geometry not imported.  This is only needed for the ellipsoid rendering in apply_stardist\n"
     ]
    }
   ],
   "source": [
    "import napari\n",
    "import czifile\n",
    "import numpy as np\n",
    "import matplotlib.pyplot as plt\n",
    "import torch\n",
    "from pathlib import Path\n",
    "from monai.inferers import sliding_window_inference\n",
    "from tnia.deeplearning.dl_helper import quantile_normalization\n",
    "import torch.nn.functional as F\n",
    "import tifffile\n",
    "from tqdm import tqdm\n"
   ]
  },
  {
   "cell_type": "code",
   "execution_count": 2,
   "id": "87442273",
   "metadata": {},
   "outputs": [
    {
     "name": "stdout",
     "output_type": "stream",
     "text": [
      "Found 16 files:\n",
      "M20E1-Stitching-08-Create Image Subset-01.czi\n",
      "M20E2-Stitching-06-Create Image Subset-02.czi\n",
      "M20E3-Stitching-05-Create Image Subset-03.czi\n",
      "M20E4-Stitching-09-Create Image Subset-04.czi\n",
      "M20E6-Stitching-07-Create Image Subset-07.czi\n",
      "M20E6bis-Stitching-10-Create Image Subset-05.czi\n",
      "M21E2-Stitching-01-Create Image Subset-08.czi\n",
      "M21E3-Stitching-02-Create Image Subset-09.czi\n",
      "M21E4-Stitching-03-Create Image Subset-10.czi\n",
      "M21E5-Stitching-04-Create Image Subset-11.czi\n",
      "M21E6-Stitching-05-Create Image Subset-12.czi\n",
      "MockE1-Stitching-04-Create Image Subset-13.czi\n",
      "MockE2-Stitching-01-Create Image Subset-14.czi\n",
      "MockE3-Stitching-02-Create Image Subset-15.czi\n",
      "MockE4-Stitching-03-Create Image Subset-16.czi\n",
      "MockE5-Stitching-06-Create Image Subset-17.czi\n"
     ]
    }
   ],
   "source": [
    "# Define the parent path and list of input CZI files\n",
    "parent_path = Path(r'C:/Users/Alex/Desktop/Mailis')\n",
    "input_files = sorted((parent_path / \"data\").glob(\"*.czi\"))\n",
    "print(f\"Found {len(input_files)} files:\")\n",
    "for f in input_files:\n",
    "    print(f.name)\n"
   ]
  },
  {
   "cell_type": "code",
   "execution_count": 3,
   "id": "063c2f91",
   "metadata": {},
   "outputs": [],
   "source": [
    "# Load model\n",
    "models_path = parent_path / 'models'\n",
    "net = torch.load(Path(models_path) / 'test9.pth', weights_only=False)\n",
    "device = torch.device(\"cuda\" if torch.cuda.is_available() else \"cpu\")\n",
    "net = net.to(device)\n"
   ]
  },
  {
   "cell_type": "code",
   "execution_count": 4,
   "id": "f291934b",
   "metadata": {},
   "outputs": [],
   "source": [
    "# Prediction function returning class probabilities\n",
    "def predict_probabilities(im, net):\n",
    "    im = quantile_normalization(im)\n",
    "    im = im.astype(np.float32)\n",
    "    im_tensor = torch.from_numpy(im).unsqueeze(0).unsqueeze(0).to(device)\n",
    "\n",
    "    with torch.no_grad():\n",
    "        logits = sliding_window_inference(\n",
    "            im_tensor,\n",
    "            1024,\n",
    "            1,\n",
    "            net\n",
    "        )\n",
    "\n",
    "    probabilities = torch.nn.functional.softmax(logits, dim=1)\n",
    "    return probabilities.squeeze(0).cpu().numpy()  # Shape: (num_classes, H, W)\n"
   ]
  },
  {
   "cell_type": "code",
   "execution_count": 5,
   "id": "fea31b72",
   "metadata": {},
   "outputs": [
    {
     "name": "stdout",
     "output_type": "stream",
     "text": [
      "Selected classes: [0]\n"
     ]
    }
   ],
   "source": [
    "# Choose class indices to save (can be one or more)\n",
    "selected_classes = [0]  # Change this list to select desired classes (e.g., [0, 2])\n",
    "print(f\"Selected classes: {selected_classes}\")\n"
   ]
  },
  {
   "cell_type": "code",
   "execution_count": null,
   "id": "1355e530",
   "metadata": {},
   "outputs": [
    {
     "name": "stdout",
     "output_type": "stream",
     "text": [
      "Processing: M20E1-Stitching-08-Create Image Subset-01.czi\n"
     ]
    },
    {
     "name": "stderr",
     "output_type": "stream",
     "text": [
      "Predicting M20E1-Stitching-08-Create Image Subset-01.czi: 100%|██████████████████████| 394/394 [09:41<00:00,  1.48s/it]\n"
     ]
    },
    {
     "name": "stdout",
     "output_type": "stream",
     "text": [
      "Saved probability map for classes [0] to C:\\Users\\Alex\\Desktop\\Mailis\\image_predicted\\M20E1-Stitching-08-Create Image Subset-01_classes0_probabilities.ome.tif\n",
      "Processing: M20E2-Stitching-06-Create Image Subset-02.czi\n"
     ]
    },
    {
     "name": "stderr",
     "output_type": "stream",
     "text": [
      "Predicting M20E2-Stitching-06-Create Image Subset-02.czi: 100%|██████████████████████| 470/470 [05:47<00:00,  1.35it/s]\n"
     ]
    },
    {
     "name": "stdout",
     "output_type": "stream",
     "text": [
      "Saved probability map for classes [0] to C:\\Users\\Alex\\Desktop\\Mailis\\image_predicted\\M20E2-Stitching-06-Create Image Subset-02_classes0_probabilities.ome.tif\n",
      "Processing: M20E3-Stitching-05-Create Image Subset-03.czi\n"
     ]
    },
    {
     "name": "stderr",
     "output_type": "stream",
     "text": [
      "Predicting M20E3-Stitching-05-Create Image Subset-03.czi: 100%|██████████████████████| 466/466 [05:22<00:00,  1.44it/s]\n"
     ]
    },
    {
     "name": "stdout",
     "output_type": "stream",
     "text": [
      "Saved probability map for classes [0] to C:\\Users\\Alex\\Desktop\\Mailis\\image_predicted\\M20E3-Stitching-05-Create Image Subset-03_classes0_probabilities.ome.tif\n",
      "Processing: M20E4-Stitching-09-Create Image Subset-04.czi\n"
     ]
    },
    {
     "name": "stderr",
     "output_type": "stream",
     "text": [
      "Predicting M20E4-Stitching-09-Create Image Subset-04.czi: 100%|██████████████████████| 402/402 [09:21<00:00,  1.40s/it]\n"
     ]
    },
    {
     "name": "stdout",
     "output_type": "stream",
     "text": [
      "Saved probability map for classes [0] to C:\\Users\\Alex\\Desktop\\Mailis\\image_predicted\\M20E4-Stitching-09-Create Image Subset-04_classes0_probabilities.ome.tif\n",
      "Processing: M20E6-Stitching-07-Create Image Subset-07.czi\n"
     ]
    },
    {
     "name": "stderr",
     "output_type": "stream",
     "text": [
      "Predicting M20E6-Stitching-07-Create Image Subset-07.czi: 100%|██████████████████████| 425/425 [06:10<00:00,  1.15it/s]\n"
     ]
    },
    {
     "name": "stdout",
     "output_type": "stream",
     "text": [
      "Saved probability map for classes [0] to C:\\Users\\Alex\\Desktop\\Mailis\\image_predicted\\M20E6-Stitching-07-Create Image Subset-07_classes0_probabilities.ome.tif\n",
      "Processing: M20E6bis-Stitching-10-Create Image Subset-05.czi\n"
     ]
    },
    {
     "name": "stderr",
     "output_type": "stream",
     "text": [
      "Predicting M20E6bis-Stitching-10-Create Image Subset-05.czi: 100%|███████████████████| 425/425 [06:09<00:00,  1.15it/s]\n"
     ]
    },
    {
     "name": "stdout",
     "output_type": "stream",
     "text": [
      "Saved probability map for classes [0] to C:\\Users\\Alex\\Desktop\\Mailis\\image_predicted\\M20E6bis-Stitching-10-Create Image Subset-05_classes0_probabilities.ome.tif\n",
      "Processing: M21E2-Stitching-01-Create Image Subset-08.czi\n"
     ]
    },
    {
     "name": "stderr",
     "output_type": "stream",
     "text": [
      "Predicting M21E2-Stitching-01-Create Image Subset-08.czi:  25%|██████████████▋                                           | 118/465 [01:49<05:31,  1.05it/s]"
     ]
    }
   ],
   "source": [
    "# Save selected class probabilities as multi-channel or single-channel OME-TIFF\n",
    "output_dir = parent_path / \"image_predicted\"\n",
    "output_dir.mkdir(parents=True, exist_ok=True)\n",
    "\n",
    "for czi_path in input_files:\n",
    "    print(f\"Processing: {czi_path.name}\")\n",
    "    image = czifile.imread(czi_path)\n",
    "    image = np.squeeze(image)\n",
    "    save_path = output_dir / (czi_path.stem + f\"_classes{''.join(map(str, selected_classes))}_probabilities.ome.tif\")\n",
    "\n",
    "    # First slice prediction to determine dimensions\n",
    "    first_probs = predict_probabilities(image[0, :, :], net)\n",
    "    height, width = first_probs.shape[1:]\n",
    "    depth = image.shape[0]\n",
    "    num_selected = len(selected_classes)\n",
    "\n",
    "    if num_selected == 1:\n",
    "        all_probs = np.zeros((depth, height, width), dtype=np.float32)\n",
    "        all_probs[0, :, :] = first_probs[selected_classes[0]]\n",
    "    else:\n",
    "        all_probs = np.zeros((num_selected, depth, height, width), dtype=np.float32)\n",
    "        for c_idx, class_id in enumerate(selected_classes):\n",
    "            all_probs[c_idx, 0, :, :] = first_probs[class_id]\n",
    "\n",
    "    for i in tqdm(range(1, depth), desc=f\"Predicting {czi_path.name}\"):\n",
    "        slice_probs = predict_probabilities(image[i, :, :], net)\n",
    "        if num_selected == 1:\n",
    "            all_probs[i, :, :] = slice_probs[selected_classes[0]]\n",
    "        else:\n",
    "            for c_idx, class_id in enumerate(selected_classes):\n",
    "                all_probs[c_idx, i, :, :] = slice_probs[class_id]\n",
    "\n",
    "    axes = 'ZYX' if num_selected == 1 else 'CZYX'\n",
    "    tifffile.imwrite(\n",
    "        save_path,\n",
    "        all_probs,\n",
    "        photometric='minisblack',\n",
    "        ome=True,\n",
    "        metadata={'axes': axes}\n",
    "    )\n",
    "    print(f\"Saved probability map for classes {selected_classes} to {save_path}\")\n"
   ]
  },
  {
   "cell_type": "markdown",
   "id": "97333d11",
   "metadata": {},
   "source": [
    "# 🔢 Save One or More Class Probability Maps\n",
    "\n",
    "This notebook lets you select **one, two, or all three classes** to save their prediction probability maps from `.czi` image volumes.\n",
    "\n",
    "## 🎛 How To Use:\n",
    "- Edit the list `selected_classes` to match the class indices you want.\n",
    "  - `[0]` for background only.\n",
    "  - `[0, 2]` for class 0 and class 2.\n",
    "  - `[0, 1, 2]` for all classes.\n",
    "\n",
    "## 📂 Input Folder:\n",
    "Place `.czi` files in:\n",
    "```\n",
    "C:/Users/Alex/Desktop/Mailis/data/\n",
    "```\n",
    "\n",
    "## 📁 Output Folder:\n",
    "Saved predictions go to:\n",
    "```\n",
    "C:/Users/Alex/Desktop/Mailis/image_predicted/\n",
    "```\n"
   ]
  }
 ],
 "metadata": {
  "kernelspec": {
   "display_name": "vessels_lightsheet",
   "language": "python",
   "name": "mon_env"
  },
  "language_info": {
   "codemirror_mode": {
    "name": "ipython",
    "version": 3
   },
   "file_extension": ".py",
   "mimetype": "text/x-python",
   "name": "python",
   "nbconvert_exporter": "python",
   "pygments_lexer": "ipython3",
   "version": "3.11.11"
  }
 },
 "nbformat": 4,
 "nbformat_minor": 5
}
